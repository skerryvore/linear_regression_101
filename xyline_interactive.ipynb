{
 "cells": [
  {
   "cell_type": "markdown",
   "metadata": {},
   "source": [
    "# Interactive line fitting\n",
    "Run the code in the cell below. A graph of some synthetic x and y data and a defauly straight line model should be generated. Use the interactive sliders to adjust the slope and intercept of the straight line so that it fits the observed data as closely as possible."
   ]
  },
  {
   "cell_type": "code",
   "execution_count": null,
   "metadata": {},
   "outputs": [],
   "source": [
    "'''\n",
    "Example of interactive plot using ipywidgets interact function\n",
    "\n",
    "Plots a set of x y valye pairs with some random noise on y,\n",
    "then allows the parameters of a straight line to be adjusted\n",
    "using interactive slider widgets.\n",
    "                                       Roderick Brown 12/4/20\n",
    "'''\n",
    "\n",
    "%matplotlib inline\n",
    "\n",
    "# Import required packages\n",
    "from ipywidgets import interact\n",
    "import matplotlib.pyplot as plt\n",
    "import numpy as np\n",
    "\n",
    "# Define function to plot data and straight line\n",
    "def xyline(slope,intercept):\n",
    "     npoints = 15\n",
    "     xmin = 1\n",
    "     xmax = 10\n",
    "     sy = 2. # Set stddev of normal distribution to draw y valu errors from \n",
    "     m = 2.0 # Set slope for synthetc data\n",
    "     c = 8.  # Set intercept for synthetic data\n",
    "    \n",
    "     np.random.seed(12345) # set random seed so repeated runs are identical\n",
    "     xdata = np.linspace(xmin,xmax-1,npoints)\n",
    "     yerr = np.random.normal(scale=sy,size=len(xdata))\n",
    "     ydata = xdata*m + c + yerr\n",
    "         \n",
    "     plt.figure(1)\n",
    "     # Set x and y values for interactive line to plot\n",
    "     x = np.linspace(0, 10, num=100)\n",
    "     y = x*slope + intercept\n",
    "     \n",
    "     # Plot data points\n",
    "     style_data = {'marker':'o','markersize':6, 'markerfacecolor':'w', 'markeredgecolor':'k',\\\n",
    "              'elinewidth':1.5,'linewidth':0, 'label':'data'}\n",
    "     \n",
    "     plt.errorbar(xdata,ydata,2*sy,**style_data)\n",
    "    \n",
    "     # Plot the straight line\n",
    "     plt.plot(x, (x*slope+intercept),'r-',label='model line')\n",
    "    \n",
    "     plt.ylim(-10, 40)\n",
    "     plt.xlim(0, xmax)\n",
    "     plt.legend(loc='upper left')\n",
    "     plt.show()\n",
    " \n",
    "# Call the function using ipywidgets interact\n",
    "interact(xyline,slope=(-8.0,8.0,0.5), intercept=(-15, 15, 0.5))\n",
    "\n"
   ]
  },
  {
   "cell_type": "code",
   "execution_count": null,
   "metadata": {},
   "outputs": [],
   "source": []
  },
  {
   "cell_type": "code",
   "execution_count": null,
   "metadata": {},
   "outputs": [],
   "source": []
  }
 ],
 "metadata": {
  "kernelspec": {
   "display_name": "Python 3",
   "language": "python",
   "name": "python3"
  },
  "language_info": {
   "codemirror_mode": {
    "name": "ipython",
    "version": 3
   },
   "file_extension": ".py",
   "mimetype": "text/x-python",
   "name": "python",
   "nbconvert_exporter": "python",
   "pygments_lexer": "ipython3",
   "version": "3.7.3"
  }
 },
 "nbformat": 4,
 "nbformat_minor": 2
}
