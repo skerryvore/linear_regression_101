{
 "cells": [
  {
   "cell_type": "markdown",
   "metadata": {},
   "source": [
    "## Fractional melting example"
   ]
  },
  {
   "cell_type": "code",
   "execution_count": 15,
   "metadata": {},
   "outputs": [
    {
     "data": {
      "application/vnd.jupyter.widget-view+json": {
       "model_id": "3d0abcd3bb624aeda5bc623437409933",
       "version_major": 2,
       "version_minor": 0
      },
      "text/plain": [
       "interactive(children=(FloatSlider(value=0.15, description='C0', max=0.3, step=0.01), FloatSlider(value=0.481, …"
      ]
     },
     "metadata": {},
     "output_type": "display_data"
    },
    {
     "data": {
      "text/plain": [
       "<function __main__.meltfc(C0, F)>"
      ]
     },
     "execution_count": 15,
     "metadata": {},
     "output_type": "execute_result"
    }
   ],
   "source": [
    "'''\n",
    "Simple fractional melting model for trace element concentrations\n",
    "\n",
    "\n",
    "\n",
    "'''\n",
    "# -*- coding: utf-8 -*-\n",
    "get_ipython().run_line_magic('matplotlib', 'inline')\n",
    "\n",
    "# Import required modules\n",
    "import numpy as np\n",
    "import scipy.odr.odrpack as odrpack\n",
    "from scipy import stats\n",
    "from scipy.optimize import curve_fit\n",
    "import csv\n",
    "import matplotlib.pyplot as plt\n",
    "from ipywidgets import interact\n",
    "\n",
    "# Set Nb concentration in mantle source\n",
    "C0 = np.full((5),0.1485) #normal MOR mantle value, Nb\n",
    "\n",
    "# Measured trace element concentrations for samples, Nb example\n",
    "C1 = np.array([0.77,0.86,1.16,1.74,0.45])\n",
    "\n",
    "sc1 = np.full((5),0.25)  # Add some estimated uncertainties to measured values\n",
    "\n",
    "Kd = np.array([0.00005,0.0015,0.0081,0.08]) #Nb\n",
    "Mntm = np.array([0.58,0.27,0.12,0.03]) #mantle modes for ol,opx,cpx,sp\n",
    "Mltm = np.array([0.2,0.25,0.45,0.1])   #melt modes for ol,opx,cpx,sp\n",
    "\n",
    "P = P0 = sum(Kd*Mltm)\n",
    "D = D0 = sum(Kd*Mntm)\n",
    "\n",
    "# Define function to animate plot\n",
    "def meltfc(C0,F):  \n",
    "    modelC = (C0/(F*((1-P)+D))) #Calculate predicted conc. for given F\n",
    "\n",
    "    model = np.full((5),modelC) # Create array of C1 predictions for each sample\n",
    "\n",
    "# Draw plot (basically a set of simple x,y graphs, uses matplotlib routines from pyplot)\n",
    "    plt.figure(1,figsize=(7,5))\n",
    "\n",
    "# Set various axes and labels etc\n",
    "    plt.title('Niobium')\n",
    "    plt.xlabel('Sample #')\n",
    "    plt.ylabel('Nb (ppm)')\n",
    "\n",
    "    # Set min, max values for x,y axes\n",
    "    plt.axis([0,6,0.,2.5])\n",
    "    samples = np.array([1,2,3,4,5])\n",
    "    \n",
    "# Plot C0 value as green line\n",
    "    plt.hlines(C0,min(samples),max(samples),colors='g',linestyles='solid', label='C0')\n",
    "\n",
    "# Plot Observed Nb\n",
    "    style_data = {'marker':'o','markersize':6, 'markerfacecolor':'w', 'markeredgecolor':'k',\n",
    "       'elinewidth':1.5,'linewidth':0, 'label':'Measured values'}\n",
    "\n",
    "    plt.errorbar(samples, C1, yerr=sc1, **style_data)\n",
    "\n",
    "    plt.plot(samples, C1, 'o',markersize=6, markerfacecolor='w', markeredgecolor='k',)\n",
    "\n",
    "# Plot model prediction\n",
    "    plt.plot(samples, model, '*',markersize=10, markerfacecolor='w', markeredgecolor='r', label='Model predictions')\n",
    "\n",
    "#Plot legend\n",
    "    plt.legend(loc='upper left')\n",
    "\n",
    "# Write plot to pdf file\n",
    "#   plt.savefig('meltfc.pdf', format='pdf')\n",
    "\n",
    "# Show the plot on screen\n",
    "    plt.show()\n",
    "\n",
    "# Call the plotting function using ipywidgets interact\n",
    "interact(meltfc,C0=(0.,0.3,0.01),F=(0.001,1.,0.02))\n",
    "   \n"
   ]
  },
  {
   "cell_type": "code",
   "execution_count": null,
   "metadata": {},
   "outputs": [],
   "source": []
  },
  {
   "cell_type": "code",
   "execution_count": null,
   "metadata": {},
   "outputs": [],
   "source": []
  }
 ],
 "metadata": {
  "kernelspec": {
   "display_name": "Python 3",
   "language": "python",
   "name": "python3"
  },
  "language_info": {
   "codemirror_mode": {
    "name": "ipython",
    "version": 3
   },
   "file_extension": ".py",
   "mimetype": "text/x-python",
   "name": "python",
   "nbconvert_exporter": "python",
   "pygments_lexer": "ipython3",
   "version": "3.8.3"
  }
 },
 "nbformat": 4,
 "nbformat_minor": 2
}
