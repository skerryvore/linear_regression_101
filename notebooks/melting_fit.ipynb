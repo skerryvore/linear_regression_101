{
 "cells": [
  {
   "cell_type": "markdown",
   "metadata": {},
   "source": [
    "## Estimate melt fraction F, from trace element concenrations in n samples (assume F and C0 is the same for all samples)."
   ]
  },
  {
   "cell_type": "code",
   "execution_count": 3,
   "metadata": {},
   "outputs": [
    {
     "name": "stdout",
     "output_type": "stream",
     "text": [
      "\n",
      "Non-linear curve fit with bounds\n",
      "P:  0.0114285  +/- 51659661.056416206  P0:  0.012029999999999999\n",
      "D:  0.0039962999999999995  +/- 51659661.43072342  D0:  0.0038059999999999995\n",
      "F:  0.15021279709272145  +/- 15636096.765898354\n",
      "C1:  [0.77 0.86 1.16 1.74 0.45]  Predicted C1:  [0.996 0.996 0.996 0.996 0.996]\n"
     ]
    },
    {
     "data": {
      "image/png": "[encoded data removed]",
      "text/plain": [
       "<Figure size 432x288 with 1 Axes>"
      ]
     },
     "metadata": {
      "needs_background": "light"
     },
     "output_type": "display_data"
    }
   ],
   "source": [
    "# -*- coding: utf-8 -*-\n",
    "\n",
    "# Import required modules\n",
    "import numpy as np\n",
    "import scipy.odr.odrpack as odrpack\n",
    "from scipy import stats\n",
    "from scipy.optimize import curve_fit\n",
    "import csv\n",
    "import matplotlib.pyplot as plt\n",
    "\n",
    "# Set C0 values for mantle source\n",
    "C0 = np.full((5),0.1485) #normal MOR Nb\n",
    "\n",
    "# Measured concentration of trace element, Nb\n",
    "C1 = np.array([0.77,0.86,1.16,1.74,0.45])\n",
    "sc1 = np.full((5),0.25)  #Add estimated uncertainties to measured values\n",
    "\n",
    "Kd = np.array([0.00005,0.0015,0.0081,0.08]) #Nb\n",
    "Mntm = np.array([0.58,0.27,0.12,0.03]) #mantle modes for ol,opx,cpx,sp\n",
    "Mltm = np.array([0.2,0.25,0.45,0.1])   #melt modes for ol,opx,cpx,sp\n",
    "\n",
    "P = P0 = sum(Kd*Mltm)\n",
    "D = D0 = sum(Kd*Mntm)\n",
    "\n",
    "# Define function for use with curve_fit()\n",
    "def meltfc(C0,P,D,F):\n",
    "    return (C0/(F*((1-P)+D)))\n",
    "\n",
    "# Do non-linear curve fit with bounds\n",
    "#-------------------------------------------------------------------\n",
    "# Set values for initial guess\n",
    "F=0.5\n",
    "\n",
    "initial_guess = np.array([P,D,F])\n",
    "\n",
    "# Set min-max bounds on parameter search for P,D,F and C0\n",
    "param_bounds=([(P-P*0.05),(D-D*0.05),0.001],[(P+P*0.05),(D+D*0.05),1.])\n",
    "\n",
    "# Run non-linear curve fit [popt is an array containing optimum fitted parameter values, pcov is the covariance matrix]\n",
    "popt, pcov = curve_fit(meltfc, C0, C1, sigma=sc1, p0=initial_guess, bounds=param_bounds, method='dogbox')\n",
    "\n",
    "perr = np.sqrt(np.diag(pcov))\n",
    "\n",
    "\n",
    "print ('\\nNon-linear curve fit with bounds')\n",
    "print ('P: ',popt[0],' +/-',perr[0],' P0: ',P0)\n",
    "print ('D: ',popt[1],' +/-',perr[1],' D0: ',D0)\n",
    "print ('F: ',popt[2],' +/-',perr[2])\n",
    "\n",
    "#print(*popt)\n",
    "print('C1: ', C1,' Predicted C1: ', meltfc(C0,*popt))\n",
    "\n",
    "\n",
    "# Draw plot (basically a simple x,y graph, uses matplotlib routines from pyplot)\n",
    "#--------------------------------------------------------\n",
    "plt.figure(1)\n",
    "\n",
    "# Set various axes and labels etc\n",
    "plt.title('Niobium')\n",
    "plt.xlabel('Sample #')\n",
    "plt.ylabel('Nb (ppm)')\n",
    "# Set min, max values for x,y axes\n",
    "plt.axis([0,6,0.,2.5])\n",
    "\n",
    "samples = np.array([1,2,3,4,5])\n",
    "\n",
    "# Plot Observed Nb\n",
    "\n",
    "style_data = {'marker':'o','markersize':6, 'markerfacecolor':'w', 'markeredgecolor':'k',\n",
    "       'elinewidth':1.5,'linewidth':0, 'label':'Measured values'}\n",
    "\n",
    "plt.errorbar(samples, C1, yerr=sc1, **style_data)\n",
    "\n",
    "plt.plot(samples, C1, 'o',markersize=6, markerfacecolor='w', markeredgecolor='k',)\n",
    "\n",
    "# Plot curve fit model prediction\n",
    "plt.plot(samples, meltfc(C0, *popt), '*',markersize=10, markerfacecolor='w', markeredgecolor='r', label='Non-linear fit (with-bounds)')\n",
    "\n",
    "#Plot legend\n",
    "plt.legend(loc='upper left')\n",
    "\n",
    "# Write plot to pdf file\n",
    "#plt.savefig('meltfc.pdf', format='pdf')\n",
    "\n",
    "# Show the plot on screen\n",
    "plt.show()\n"
   ]
  },
  {
   "cell_type": "code",
   "execution_count": null,
   "metadata": {},
   "outputs": [],
   "source": []
  }
 ],
 "metadata": {
  "kernelspec": {
   "display_name": "Python 3",
   "language": "python",
   "name": "python3"
  },
  "language_info": {
   "codemirror_mode": {
    "name": "ipython",
    "version": 3
   },
   "file_extension": ".py",
   "mimetype": "text/x-python",
   "name": "python",
   "nbconvert_exporter": "python",
   "pygments_lexer": "ipython3",
   "version": "3.8.3"
  }
 },
 "nbformat": 4,
 "nbformat_minor": 4
}
