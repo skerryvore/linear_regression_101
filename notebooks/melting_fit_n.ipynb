{
 "cells": [
  {
   "cell_type": "markdown",
   "metadata": {},
   "source": [
    "## Estimate melt fraction F, from trace element concenrations in n samples (assume F is the same for all samples)."
   ]
  },
  {
   "cell_type": "code",
   "execution_count": 1,
   "metadata": {},
   "outputs": [
    {
     "name": "stdout",
     "output_type": "stream",
     "text": [
      "\n",
      "Summary of estimated parameters\n",
      "---------------------------------\n",
      "Estimated melt fraction, F: 0.23 +/- 0.04\n",
      "\n",
      "Observed C1: [ 1.   44.54  2.7   1.49] \n",
      "Predicted C1 [ 1.07 28.23  3.06  2.05]\n"
     ]
    },
    {
     "data": {
      "image/png": "[encoded data removed]",
      "text/plain": [
       "<Figure size 648x648 with 1 Axes>"
      ]
     },
     "metadata": {
      "needs_background": "light"
     },
     "output_type": "display_data"
    }
   ],
   "source": [
    "# -*- coding: utf-8 -*-\n",
    "\n",
    "# Import required modules\n",
    "import numpy as np\n",
    "import pandas as pd\n",
    "from scipy import stats\n",
    "from scipy.optimize import curve_fit\n",
    "import matplotlib.pyplot as plt\n",
    "\n",
    "# Set initial concentrations in mantle source, C0 values; Nb,Zr,Dy,Yb\n",
    "C0 = np.array([0.2462,6.087,0.543,0.382]) #enriched MOR\n",
    "\n",
    "# Measured concentrations of trace elements in samples; Nb,Zr,Dy,Yb\n",
    "\n",
    "data = {\n",
    "        'Nb':[0.77,0.86,1.16,1.74,0.45],\n",
    "        'Zr':[38.8,45.5,47.0,66.1,25.3],\n",
    "        'Yb':[2.70,2.72,2.75,3.16,2.19],\n",
    "        'Dy':[1.53,1.45,1.48,1.71,1.26],\n",
    "       }\n",
    "traces = list(data.keys())\n",
    "n = len(data['Nb'])\n",
    "ntraces = ['Nb']*n+['Zr']*n+['Yb']*n+['Dy']*n\n",
    "concentrations = np.array(list(data.values()))\n",
    "\n",
    "#print(ntraces)\n",
    "#print(concentrations.flatten())\n",
    "\n",
    "trace_data = pd.DataFrame(data=data)\n",
    "\n",
    "# Mean concentrations\n",
    "C1 = np.array([1.00,44.54,2.70,1.49])\n",
    "sc1 = np.array([0.25,5.0,0.5,0.3])  #Add arbitrary (made up) stddev of measured values\n",
    "\n",
    "# Mineral proportions in mantle source and melt modes\n",
    "mntl_modes = np.array([0.58,0.27,0.12,0.03])\n",
    "melt_modes = np.array([0.2,0.25,0.45,0.1])\n",
    "\n",
    "#Distribution coefficients for minerals; ol,opx,cpx,sp\n",
    "Kd = {\n",
    "      'Nb':[0.00005,0.0015,0.0081,0.08],\n",
    "      'Zr':[0.00068,0.004,0.195,0.06],\n",
    "      'Yb':[0.0055,0.015,0.711,0.008],\n",
    "      'Dy':[0.0366,0.032,0.633,0.0076]   \n",
    "     }\n",
    "\n",
    "# Calculate bulk distribution coeeficients for melt (do this elegantly, i.e. properly with loop or something sensible :-)\n",
    "P_Nb = sum(Kd['Nb']*melt_modes)\n",
    "P_Zr = sum(Kd['Zr']*melt_modes)\n",
    "P_Yb = sum(Kd['Yb']*melt_modes)\n",
    "P_Dy = sum(Kd['Dy']*melt_modes)\n",
    "\n",
    "# Calculate bulk distribution coeeficients for solid\n",
    "D_Nb = sum(Kd['Nb']*mntl_modes)\n",
    "D_Zr = sum(Kd['Zr']*mntl_modes)\n",
    "D_Yb = sum(Kd['Yb']*mntl_modes)\n",
    "D_Dy = sum(Kd['Dy']*mntl_modes)\n",
    "\n",
    "# Store bulk distribution coefficients in numpy array for use\n",
    "P = np.array([P_Nb,P_Zr,P_Yb,P_Dy])\n",
    "D = np.array([D_Nb,D_Zr,D_Yb,D_Dy])\n",
    "\n",
    "# Package 1D arrays of C0,P and D to pass into the function to solve\n",
    "Variables = np.array([C0,P,D])\n",
    "\n",
    "# Define function for use with curve_fit()\n",
    "def meltfc(Variables,F):\n",
    "    C0,P,D = Variables  #Unpack 1D arrays\n",
    "    return (C0/(F*((1-P)+D)))\n",
    "\n",
    "# Do curve fit stuff here with bounds\n",
    "#-------------------------------------------------------------------\n",
    "F0=0.5  #Initial guess for F\n",
    "\n",
    "# Set min-max bounds on parameter search for F\n",
    "param_bounds=([0.001],[1.])\n",
    "\n",
    "# Run non-linear curve fit [popt is an array containing optimum fitted parameter values, pcov is the covariance matrix]\n",
    "popt, pcov = curve_fit(meltfc, Variables, C1, sigma=sc1, p0=F0, bounds=param_bounds, method='dogbox')\n",
    "\n",
    "perr = np.sqrt(np.diag(pcov))\n",
    "\n",
    "# Write out results of interest...\n",
    "print ('\\nSummary of estimated parameters\\n---------------------------------')\n",
    "print (f'Estimated melt fraction, F: {popt[0]:.2f} +/- {perr[0]:.2f}')\n",
    "\n",
    "np.set_printoptions(precision=2,suppress=True)\n",
    "print(f'\\nObserved C1: {C1} \\nPredicted C1 {meltfc(Variables,*popt)}')\n",
    "\n",
    "\n",
    "# Draw plot (basically a simple x,y graph, uses matplotlib routines from pyplot)\n",
    "#--------------------------------------------------------\n",
    "style_data = {'marker':'o','markersize':6, 'markerfacecolor':'w', 'markeredgecolor':'k',\n",
    "       'elinewidth':1.5,'linewidth':0, 'label':'Mean of measured values'}\n",
    "\n",
    "fig, axs = plt.subplots(1, 1, figsize=(9, 9), sharey=True)\n",
    "\n",
    "axs.set_ylabel('Conc. [ppm]')\n",
    "\n",
    "# Model predictions\n",
    "axs.plot(traces, meltfc(Variables,*popt),'*', markersize=10, markerfacecolor='w',\n",
    "            markeredgecolor='r', label='Predicted mean values')\n",
    "# Observed mean values\n",
    "axs.errorbar(traces, C1, yerr=sc1, **style_data)\n",
    "\n",
    "# Observed individual sample values\n",
    "axs.scatter(ntraces,concentrations.flatten(), label='Individual sample values')\n",
    "\n",
    "axs.legend()\n",
    "\n",
    "fig.suptitle('Model Summary')\n",
    "\n",
    "plt.show()\n"
   ]
  }
 ],
 "metadata": {
  "kernelspec": {
   "display_name": "Python 3",
   "language": "python",
   "name": "python3"
  },
  "language_info": {
   "codemirror_mode": {
    "name": "ipython",
    "version": 3
   },
   "file_extension": ".py",
   "mimetype": "text/x-python",
   "name": "python",
   "nbconvert_exporter": "python",
   "pygments_lexer": "ipython3",
   "version": "3.8.3"
  }
 },
 "nbformat": 4,
 "nbformat_minor": 4
}
